{
 "cells": [
  {
   "cell_type": "markdown",
   "metadata": {},
   "source": [
    "## Basic Imports"
   ]
  },
  {
   "cell_type": "code",
   "execution_count": 2,
   "metadata": {},
   "outputs": [],
   "source": [
    "import numpy as np\n",
    "import pandas as pd\n",
    "import datetime as dt\n",
    "import os\n",
    "import sys\n",
    "\n",
    "from sklearn.preprocessing import Imputer\n",
    "from sklearn.preprocessing import StandardScaler\n",
    "from sklearn.base import BaseEstimator\n",
    "from sklearn.base import TransformerMixin\n",
    "from sklearn.pipeline import Pipeline\n",
    "from sklearn.pipeline import FeatureUnion\n",
    "from sklearn.pipeline import make_pipeline\n",
    "\n",
    "from sklearn.metrics import confusion_matrix\n",
    "from sklearn.metrics import roc_curve\n",
    "from sklearn.metrics import accuracy_score\n",
    "from sklearn.metrics import recall_score\n",
    "from sklearn.metrics import precision_score\n",
    "from sklearn.metrics import roc_auc_score\n",
    "from sklearn.metrics import roc_curve\n",
    "\n",
    "from sklearn.model_selection import GridSearchCV\n",
    "from sklearn.linear_model import LogisticRegression\n",
    "from sklearn.ensemble import RandomForestClassifier\n",
    "from sklearn.ensemble import GradientBoostingClassifier\n",
    "\n",
    "import matplotlib.pyplot as plt\n",
    "%matplotlib inline"
   ]
  },
  {
   "cell_type": "markdown",
   "metadata": {},
   "source": [
    "## Loading Data"
   ]
  },
  {
   "cell_type": "markdown",
   "metadata": {},
   "source": [
    "**Note:** looks like the training set has 40,000 data-points and the test set has 10,000 data-points"
   ]
  },
  {
   "cell_type": "code",
   "execution_count": 3,
   "metadata": {},
   "outputs": [],
   "source": [
    "DATA_PATH = os.path.join(\"../data/\")\n",
    "\n",
    "def load_churn_data(path=DATA_PATH, train=True):\n",
    "    if train:\n",
    "        csv_path = os.path.join(path, \"churn_train.csv\")\n",
    "    else:\n",
    "        csv_path = os.path.join(path, \"churn_test.csv\")\n",
    "    return pd.read_csv(csv_path)"
   ]
  },
  {
   "cell_type": "code",
   "execution_count": 4,
   "metadata": {},
   "outputs": [],
   "source": [
    "#load train data\n",
    "churn_train_orig = load_churn_data(path=DATA_PATH, train=True)\n",
    "churn_train = churn_train_orig.copy()\n",
    "\n",
    "#load test data\n",
    "churn_test_orig = load_churn_data(path=DATA_PATH, train=False)\n",
    "churn_test = churn_test_orig.copy()"
   ]
  },
  {
   "cell_type": "code",
   "execution_count": 5,
   "metadata": {},
   "outputs": [
    {
     "name": "stdout",
     "output_type": "stream",
     "text": [
      "<class 'pandas.core.frame.DataFrame'>\n",
      "RangeIndex: 40000 entries, 0 to 39999\n",
      "Data columns (total 12 columns):\n",
      "avg_dist                  40000 non-null float64\n",
      "avg_rating_by_driver      39838 non-null float64\n",
      "avg_rating_of_driver      33472 non-null float64\n",
      "avg_surge                 40000 non-null float64\n",
      "city                      40000 non-null object\n",
      "last_trip_date            40000 non-null object\n",
      "phone                     39681 non-null object\n",
      "signup_date               40000 non-null object\n",
      "surge_pct                 40000 non-null float64\n",
      "trips_in_first_30_days    40000 non-null int64\n",
      "luxury_car_user           40000 non-null bool\n",
      "weekday_pct               40000 non-null float64\n",
      "dtypes: bool(1), float64(6), int64(1), object(4)\n",
      "memory usage: 3.4+ MB\n"
     ]
    }
   ],
   "source": [
    "churn_train.info()"
   ]
  },
  {
   "cell_type": "code",
   "execution_count": 6,
   "metadata": {},
   "outputs": [
    {
     "name": "stdout",
     "output_type": "stream",
     "text": [
      "<class 'pandas.core.frame.DataFrame'>\n",
      "RangeIndex: 10000 entries, 0 to 9999\n",
      "Data columns (total 12 columns):\n",
      "avg_dist                  10000 non-null float64\n",
      "avg_rating_by_driver      9961 non-null float64\n",
      "avg_rating_of_driver      8406 non-null float64\n",
      "avg_surge                 10000 non-null float64\n",
      "city                      10000 non-null object\n",
      "last_trip_date            10000 non-null object\n",
      "phone                     9923 non-null object\n",
      "signup_date               10000 non-null object\n",
      "surge_pct                 10000 non-null float64\n",
      "trips_in_first_30_days    10000 non-null int64\n",
      "luxury_car_user           10000 non-null bool\n",
      "weekday_pct               10000 non-null float64\n",
      "dtypes: bool(1), float64(6), int64(1), object(4)\n",
      "memory usage: 869.2+ KB\n"
     ]
    }
   ],
   "source": [
    "churn_test.info()"
   ]
  },
  {
   "cell_type": "markdown",
   "metadata": {},
   "source": [
    "## Pipline Custom Transfomer Classes"
   ]
  },
  {
   "cell_type": "code",
   "execution_count": 7,
   "metadata": {},
   "outputs": [],
   "source": [
    "boolean_attributes     = ['luxury_car_user']\n",
    "\n",
    "datetime_attributes    = [\"last_trip_date\", \"signup_date\"]\n",
    "\n",
    "categorical_attributes = [\"city\", \"phone\"]\n",
    "\n",
    "numerical_attributes   = [\"avg_dist\", \n",
    "                          \"avg_rating_by_driver\", \n",
    "                          \"avg_rating_of_driver\", \n",
    "                          \"avg_surge\", \n",
    "                          \"surge_pct\", \n",
    "                          \"trips_in_first_30_days\", \n",
    "                          \"weekday_pct\"]\n",
    "\n",
    "\n",
    "numerical_indices = churn_train.drop(datetime_attributes + categorical_attributes + boolean_attributes, axis=1).columns\n",
    "bool_indices = churn_train.drop(datetime_attributes + categorical_attributes + numerical_attributes, axis=1).columns"
   ]
  },
  {
   "cell_type": "markdown",
   "metadata": {},
   "source": [
    "### Dataframe Selector Class\n",
    "this class will take in a dataframe X and return only the selected attributes of X"
   ]
  },
  {
   "cell_type": "code",
   "execution_count": 8,
   "metadata": {},
   "outputs": [],
   "source": [
    "class dataFrameSelector(BaseEstimator, TransformerMixin):\n",
    "    def __init__(self, selected_attributes):\n",
    "        self.selected_attributes = selected_attributes\n",
    "        \n",
    "    def fit(self, X, y=None):\n",
    "        return self\n",
    "    \n",
    "    def transform(self, X):\n",
    "        #assert isinstance(X, pd.DataFrame)\n",
    "        return X[self.selected_attributes]"
   ]
  },
  {
   "cell_type": "markdown",
   "metadata": {},
   "source": [
    "### Feature Engineering Class\n",
    "this class will take in a dataframe X and and return X after selectively adding in newly engineered features"
   ]
  },
  {
   "cell_type": "code",
   "execution_count": 9,
   "metadata": {},
   "outputs": [],
   "source": [
    "class featureEngineering(BaseEstimator, TransformerMixin):\n",
    "    def __init__(self, add_weak_user=True, add_power_user=True, add_extreme_dist=True):\n",
    "        self.add_power_user = add_power_user\n",
    "        self.add_weak_user = add_weak_user\n",
    "        self.add_extreme_dist = add_extreme_dist\n",
    "\n",
    "    def fit(self, X, y=None):\n",
    "        return self\n",
    "    \n",
    "    def transform(self, X):\n",
    "        #assert isinstance(X, pd.DataFrame)\n",
    "        if self.add_weak_user:\n",
    "            weak_user = (X.loc[:, 'trips_in_first_30_days'] <= 2).astype(int)\n",
    "            X = pd.concat([X, weak_user.rename('weak_user')], axis=1)\n",
    "            \n",
    "        if self.add_power_user:\n",
    "            power_user = (X.loc[:, 'trips_in_first_30_days'] >= 5).astype(int)\n",
    "            X = pd.concat([X, power_user.rename('power_user')], axis=1)\n",
    "            \n",
    "        if self.add_extreme_dist:\n",
    "            bins = [0,1.8,10,100]\n",
    "            avg_distance_split = pd.cut(X['avg_dist'], bins=bins, labels=False)\n",
    "            X['extreme_dist'] = (avg_distance_split != 1).astype(int)\n",
    "        \n",
    "        return X"
   ]
  },
  {
   "cell_type": "markdown",
   "metadata": {},
   "source": [
    "### Imputer Converter Class\n",
    "this class  will take in a dataframe X and return X with imputed values to missing data points "
   ]
  },
  {
   "cell_type": "code",
   "execution_count": 10,
   "metadata": {},
   "outputs": [],
   "source": [
    "class imputerConverter(BaseEstimator, TransformerMixin):\n",
    "    def __init__(self, attribute_indices):\n",
    "        self.attribute_indices = attribute_indices\n",
    "\n",
    "    def fit(self, X, y=None):\n",
    "        return self\n",
    "    \n",
    "    def transform(self, X):\n",
    "        #assert isinstance(X, pd.DataFrame)\n",
    "        imputer = Imputer(strategy='median')\n",
    "        imputer.fit(X)\n",
    "        X = imputer.transform(X)\n",
    "        return pd.DataFrame(X, columns=self.attribute_indices)"
   ]
  },
  {
   "cell_type": "markdown",
   "metadata": {},
   "source": [
    "### Type Converter Class\n",
    "this class will take in a dataframe and return a dataframe after converting tye types of certain columns"
   ]
  },
  {
   "cell_type": "code",
   "execution_count": 11,
   "metadata": {},
   "outputs": [],
   "source": [
    "class typeConverter(BaseEstimator, TransformerMixin):\n",
    "    def __init__(self, convert_to_int=True, convert_to_datetime=False):\n",
    "        self.convert_to_int = convert_to_int\n",
    "        self.convert_to_datetime = convert_to_datetime\n",
    "        \n",
    "    def fit(self, X, y=None):\n",
    "        return self\n",
    "    \n",
    "    def transform(self, X):\n",
    "        #assert isinstance(X, pd.DataFrame)\n",
    "        if self.convert_to_int:\n",
    "            return X[:].astype(int)\n",
    "        elif self.convert_to_datetime:\n",
    "            return X.iloc[:, :].apply(pd.to_datetime, errors='coerce')\n",
    "        else:\n",
    "            return X"
   ]
  },
  {
   "cell_type": "markdown",
   "metadata": {},
   "source": [
    "### Output Adder Class\n",
    "this class will take in a dataframe and return the dataframe after adding the target output column"
   ]
  },
  {
   "cell_type": "code",
   "execution_count": 12,
   "metadata": {},
   "outputs": [],
   "source": [
    "class outputAdder(BaseEstimator, TransformerMixin):\n",
    "    def __init__(self):\n",
    "        pass\n",
    "        \n",
    "    def fit(self, X, y=None):\n",
    "        return self\n",
    "    \n",
    "    def transform(self, X):\n",
    "        #assert isinstance(X, pd.DataFrame)\n",
    "        end_date = pd.to_datetime('2014-07-01')\n",
    "        delta = pd.Timedelta('30 days')\n",
    "        \n",
    "        X['churn'] = ((end_date - X['last_trip_date']) >= delta).astype(int)\n",
    "        return X"
   ]
  },
  {
   "cell_type": "markdown",
   "metadata": {},
   "source": [
    "### Get Dummies Class\n",
    "this class will take in a dataframe and return a dummified dataframe of all categorical features"
   ]
  },
  {
   "cell_type": "code",
   "execution_count": 13,
   "metadata": {},
   "outputs": [],
   "source": [
    "class getDummies(BaseEstimator, TransformerMixin):\n",
    "    def __init__(self, dummy_cols = []):\n",
    "        self.dummy_cols = dummy_cols\n",
    "        \n",
    "    def fit(self, X, y=None):\n",
    "        return self\n",
    "    \n",
    "    def transform(self, X):\n",
    "        #assert isinstance(X, pd.DataFrame)\n",
    "        return pd.get_dummies(data=X, columns=self.dummy_cols, drop_first=True)"
   ]
  },
  {
   "cell_type": "markdown",
   "metadata": {},
   "source": [
    "### Feature Dropper Class\n",
    "this class will take in a dataframe and return the dataframe after dropping a few selected features"
   ]
  },
  {
   "cell_type": "code",
   "execution_count": 14,
   "metadata": {},
   "outputs": [],
   "source": [
    "class featureDropper(BaseEstimator, TransformerMixin):\n",
    "    def __init__(self, drop_list = []):\n",
    "        self.drop_list = drop_list\n",
    "        \n",
    "    def fit(self, X, y=None):\n",
    "        return self\n",
    "    \n",
    "    def transform(self, X):\n",
    "        #assert isinstance(X, pd.DataFrame)\n",
    "        X.drop(self.drop_list, axis=1, inplace=True)\n",
    "        return X"
   ]
  },
  {
   "cell_type": "markdown",
   "metadata": {},
   "source": [
    "## Building Final Pipeline"
   ]
  },
  {
   "cell_type": "code",
   "execution_count": 15,
   "metadata": {},
   "outputs": [],
   "source": [
    "datetime_pipe = Pipeline([\n",
    "                            ('selector', dataFrameSelector(datetime_attributes)),\n",
    "                            ('type converter', typeConverter(convert_to_int=False, convert_to_datetime=True)),\n",
    "                            ('feature dropper', featureDropper(datetime_attributes))\n",
    "                        ])"
   ]
  },
  {
   "cell_type": "code",
   "execution_count": 16,
   "metadata": {},
   "outputs": [],
   "source": [
    "numerical_pipe = Pipeline([\n",
    "                            ('selector', dataFrameSelector(numerical_attributes)),\n",
    "                            ('imputor', imputerConverter(numerical_indices)),\n",
    "                            ('feature engineer', featureEngineering()),\n",
    "                            ('scale', StandardScaler())\n",
    "                         ])"
   ]
  },
  {
   "cell_type": "code",
   "execution_count": 17,
   "metadata": {},
   "outputs": [],
   "source": [
    "bool_pipe = Pipeline([\n",
    "                        ('selector', dataFrameSelector(boolean_attributes)),\n",
    "                        ('imputor', imputerConverter(bool_indices)),\n",
    "                        ('type converter', typeConverter(convert_to_int=True, convert_to_datetime=False))\n",
    "                    ])"
   ]
  },
  {
   "cell_type": "code",
   "execution_count": 18,
   "metadata": {},
   "outputs": [],
   "source": [
    "categorical_pipe = Pipeline([\n",
    "                                ('selector', dataFrameSelector(categorical_attributes)),\n",
    "                                ('dummify', getDummies(categorical_attributes))\n",
    "                            ])"
   ]
  },
  {
   "cell_type": "code",
   "execution_count": 19,
   "metadata": {},
   "outputs": [],
   "source": [
    "pre_process_pipe = FeatureUnion(transformer_list=[\n",
    "                            ('num pipe', numerical_pipe),\n",
    "                            ('bool pipe', bool_pipe),\n",
    "                            ('date pipe', datetime_pipe),\n",
    "                            ('cat pipe', categorical_pipe)\n",
    "                        ])"
   ]
  },
  {
   "cell_type": "code",
   "execution_count": 20,
   "metadata": {},
   "outputs": [
    {
     "name": "stdout",
     "output_type": "stream",
     "text": [
      "(40000, 14)\n",
      "(10000, 14)\n"
     ]
    }
   ],
   "source": [
    "churn_train_X = pre_process_pipe.fit_transform(churn_train)\n",
    "churn_test_X = pre_process_pipe.fit_transform(churn_test)\n",
    "print(churn_train_X.shape)\n",
    "print(churn_test_X.shape)"
   ]
  },
  {
   "cell_type": "markdown",
   "metadata": {},
   "source": [
    "## Generating Targets for Test/Train"
   ]
  },
  {
   "cell_type": "code",
   "execution_count": 21,
   "metadata": {},
   "outputs": [],
   "source": [
    "def createOutput(data_frame, output_col_name, return_type_numpy=True):\n",
    "    end_date = pd.to_datetime('2014-07-01')\n",
    "    delta = pd.Timedelta('30 days')\n",
    "    \n",
    "    data_frame['signup_date'] = pd.to_datetime(data_frame['signup_date'])\n",
    "    data_frame['last_trip_date'] = pd.to_datetime(data_frame['last_trip_date'])\n",
    "    data_frame[output_col_name] = ((end_date - data_frame['last_trip_date']) >= delta).astype(int)\n",
    "    \n",
    "    if return_type_numpy:\n",
    "        return data_frame[output_col_name].values\n",
    "    else:\n",
    "        return data_frame[output_col_name]"
   ]
  },
  {
   "cell_type": "code",
   "execution_count": 22,
   "metadata": {},
   "outputs": [
    {
     "name": "stdout",
     "output_type": "stream",
     "text": [
      "(40000,) (10000,)\n"
     ]
    }
   ],
   "source": [
    "churn_train_y = createOutput(churn_train, 'churn', return_type_numpy=True)\n",
    "churn_test_y = createOutput(churn_test, 'churn', return_type_numpy=True)\n",
    "print(churn_train_y.shape, churn_test_y.shape)\n"
   ]
  },
  {
   "cell_type": "markdown",
   "metadata": {},
   "source": [
    "## Scoring Class"
   ]
  },
  {
   "cell_type": "code",
   "execution_count": 49,
   "metadata": {},
   "outputs": [],
   "source": [
    "class modelScorer():\n",
    "    def __init__(self, title, model, y, X):\n",
    "        \"\"\"\n",
    "        title --> string --> describe the model (used for book keeping)\n",
    "        model --> sklearn model\n",
    "        y     --> np array --> target output column from feature matrix \n",
    "        X     --> np array --> feature matrix\n",
    "        \"\"\"\n",
    "        self.title = title\n",
    "        self.model = model\n",
    "        self.y = y\n",
    "        self.X = X\n",
    "        \n",
    "        self.y_predict = self.model.predict(self.X)\n",
    "        \n",
    "        self.confusion_matrx = confusion_matrix(self.y, self.y_predict)\n",
    "        self.accuracy_scr = accuracy_score(self.y, self.y_predict)\n",
    "        self.recall_scr = recall_score(self.y, self.y_predict)\n",
    "        self.precision_scr = precision_score(self.y, self.y_predict)\n",
    "        \n",
    "    def genScoreReport(self):\n",
    "        print(\"\\t\\tSCORE FOR {}\".format(self.title))\n",
    "        print(\"Accuracy:{0:.2f}\".format(self.accuracy_scr))\n",
    "        print(\"Recall:{0:.2f}\".format(self.recall_scr))\n",
    "        print(\"Precision:{0:.2f}\".format(self.precision_scr))\n",
    "        print(\"\\nConfusion Matrix:\\n {}\".format(self.confusion_matrx))\n",
    "        \n",
    "    def plot_roc(self):\n",
    "        AUC = roc_auc_score(self.y, self.model.predict_proba(self.X)[:,1])\n",
    "        fpr, tpr, thresholds = roc_curve(self.y, self.model.predict_proba(self.X)[:,1])\n",
    "    \n",
    "        plt.figure()\n",
    "        lw = 2\n",
    "        plt.plot(fpr, tpr, color='darkorange', lw=lw, label='ROC curve (area = %0.2f)' % AUC)\n",
    "        plt.plot([0, 1], [0, 1], color='navy', lw=lw, linestyle='--')\n",
    "        plt.xlim([0.0, 1.0])\n",
    "        plt.ylim([0.0, 1.05])\n",
    "        plt.xlabel('False Positive Rate')\n",
    "        plt.ylabel('True Positive Rate')\n",
    "        plt.title('Receiver Operating Characteristic:: {}'.format(self.title))\n",
    "        plt.legend(loc=\"lower right\");\n",
    "        \n",
    "    def getAccuracyScore(self):\n",
    "        return self.accuracy_scr\n",
    "    \n",
    "    def getRecallScore(self):\n",
    "        return self.recall_scr\n",
    "    \n",
    "    def getPrecisionScore(self):\n",
    "        return self.precision_scr\n",
    "    \n",
    "    def getConfusionMatrix(self):\n",
    "        return self.confusion_matrx\n",
    "\n"
   ]
  },
  {
   "cell_type": "markdown",
   "metadata": {},
   "source": [
    "## Logistic Regression "
   ]
  },
  {
   "cell_type": "code",
   "execution_count": 24,
   "metadata": {},
   "outputs": [],
   "source": [
    "param_grid = {'C':[0.9]}\n",
    "logistic_clf = LogisticRegression(random_state=42, class_weight='balanced')\n",
    "logistic_model = GridSearchCV(logistic_clf, param_grid, cv=10)\n",
    "\n",
    "logistic_model.fit(churn_train_X, churn_train_y);"
   ]
  },
  {
   "cell_type": "code",
   "execution_count": 25,
   "metadata": {},
   "outputs": [],
   "source": [
    "logistic_test_score = modelScorer(\"Logistic --> Test\", logistic_model, churn_test_y, churn_test_X)\n",
    "logistic_train_score = modelScorer(\"Logistic --> Train\", logistic_model, churn_train_y, churn_train_X)"
   ]
  },
  {
   "cell_type": "code",
   "execution_count": 26,
   "metadata": {},
   "outputs": [
    {
     "name": "stdout",
     "output_type": "stream",
     "text": [
      "\t\tSCORE FOR Logistic --> Test\n",
      "Accuracy:0.71\n",
      "Recall:0.73\n",
      "Precision:0.80\n",
      "\n",
      "Confusion Matrix:\n",
      " [[2500 1175]\n",
      " [1737 4588]]\n"
     ]
    }
   ],
   "source": [
    "logistic_test_score.genScoreReport()"
   ]
  },
  {
   "cell_type": "code",
   "execution_count": 27,
   "metadata": {},
   "outputs": [
    {
     "name": "stdout",
     "output_type": "stream",
     "text": [
      "\t\tSCORE FOR Logistic --> Train\n",
      "Accuracy:0.72\n",
      "Recall:0.74\n",
      "Precision:0.80\n",
      "\n",
      "Confusion Matrix:\n",
      " [[10015  4620]\n",
      " [ 6612 18753]]\n"
     ]
    }
   ],
   "source": [
    "logistic_train_score.genScoreReport()"
   ]
  },
  {
   "cell_type": "markdown",
   "metadata": {},
   "source": [
    "## Random Forest"
   ]
  },
  {
   "cell_type": "code",
   "execution_count": 28,
   "metadata": {},
   "outputs": [],
   "source": [
    "param_grid = {   \n",
    "                'max_features': [2]\n",
    "             }\n",
    "\n",
    "rf_clf = RandomForestClassifier(\n",
    "                                    random_state=42,\n",
    "                                    n_jobs=-1,\n",
    "                                    class_weight='balanced',\n",
    "                                    min_samples_leaf=2,\n",
    "                                    bootstrap=True,\n",
    "                                    min_samples_split=10,\n",
    "                                    max_depth = 20,\n",
    "                                    n_estimators = 1000\n",
    "                                )\n",
    "\n",
    "rf_model = GridSearchCV(rf_clf, param_grid, cv=10)\n",
    "rf_model.fit(churn_train_X, churn_train_y);"
   ]
  },
  {
   "cell_type": "code",
   "execution_count": 29,
   "metadata": {},
   "outputs": [],
   "source": [
    "rf_test_score = modelScorer(\"Random Forest --> Test\", rf_model, churn_test_y, churn_test_X)\n",
    "rf_train_score = modelScorer(\"Random Forest --> Train\", rf_model, churn_train_y, churn_train_X)"
   ]
  },
  {
   "cell_type": "code",
   "execution_count": 30,
   "metadata": {},
   "outputs": [
    {
     "name": "stdout",
     "output_type": "stream",
     "text": [
      "\t\tSCORE FOR Random Forest --> Test\n",
      "Accuracy:0.78\n",
      "Recall:0.82\n",
      "Precision:0.83\n",
      "\n",
      "Confusion Matrix:\n",
      " [[2618 1057]\n",
      " [1162 5163]]\n"
     ]
    }
   ],
   "source": [
    "rf_test_score.genScoreReport()"
   ]
  },
  {
   "cell_type": "code",
   "execution_count": 31,
   "metadata": {},
   "outputs": [
    {
     "name": "stdout",
     "output_type": "stream",
     "text": [
      "\t\tSCORE FOR Random Forest --> Train\n",
      "Accuracy:0.88\n",
      "Recall:0.89\n",
      "Precision:0.92\n",
      "\n",
      "Confusion Matrix:\n",
      " [[12587  2048]\n",
      " [ 2846 22519]]\n"
     ]
    }
   ],
   "source": [
    "rf_train_score.genScoreReport()"
   ]
  },
  {
   "cell_type": "markdown",
   "metadata": {},
   "source": [
    "## Gradient Boost"
   ]
  },
  {
   "cell_type": "code",
   "execution_count": 32,
   "metadata": {},
   "outputs": [],
   "source": [
    "param_grid = {   \n",
    "                'n_estimators': [1000],\n",
    "                'learning_rate': [0.2],\n",
    "                'max_depth': [3]\n",
    "             }\n",
    "\n",
    "gb_clf = GradientBoostingClassifier(\n",
    "                                        random_state=42\n",
    "                                   )\n",
    "\n",
    "gb_model = GridSearchCV(gb_clf, param_grid, cv=10)\n",
    "gb_model.fit(churn_train_X, churn_train_y);"
   ]
  },
  {
   "cell_type": "code",
   "execution_count": 33,
   "metadata": {},
   "outputs": [
    {
     "data": {
      "text/plain": [
       "{'learning_rate': 0.1, 'max_depth': 3, 'n_estimators': 1000}"
      ]
     },
     "execution_count": 33,
     "metadata": {},
     "output_type": "execute_result"
    }
   ],
   "source": [
    "gb_model.best_params_"
   ]
  },
  {
   "cell_type": "code",
   "execution_count": 45,
   "metadata": {},
   "outputs": [],
   "source": [
    "gb_test_score = modelScorer(\"Gradient Boost --> Test\", gb_model, churn_test_y, churn_test_X)\n",
    "gb_train_score = modelScorer(\"Gradient Boost --> Train\", gb_model, churn_train_y, churn_train_X)"
   ]
  },
  {
   "cell_type": "code",
   "execution_count": 46,
   "metadata": {},
   "outputs": [
    {
     "name": "stdout",
     "output_type": "stream",
     "text": [
      "\t\tSCORE FOR Gradient Boost --> Test\n",
      "Accuracy:0.78\n",
      "Recall:0.84\n",
      "Precision:0.82\n",
      "\n",
      "Confusion Matrix:\n",
      " [[2523 1152]\n",
      " [1023 5302]]\n"
     ]
    }
   ],
   "source": [
    "gb_test_score.genScoreReport()"
   ]
  },
  {
   "cell_type": "code",
   "execution_count": 47,
   "metadata": {},
   "outputs": [
    {
     "name": "stdout",
     "output_type": "stream",
     "text": [
      "\t\tSCORE FOR Gradient Boost --> Train\n",
      "Accuracy:0.82\n",
      "Recall:0.89\n",
      "Precision:0.83\n",
      "\n",
      "Confusion Matrix:\n",
      " [[10158  4477]\n",
      " [ 2757 22608]]\n"
     ]
    }
   ],
   "source": [
    "gb_train_score.genScoreReport()"
   ]
  },
  {
   "cell_type": "code",
   "execution_count": 48,
   "metadata": {},
   "outputs": [
    {
     "data": {
      "image/png": "[encoded data removed]",
      "text/plain": [
       "<Figure size 432x288 with 1 Axes>"
      ]
     },
     "metadata": {},
     "output_type": "display_data"
    }
   ],
   "source": [
    "gb_test_score.plot_roc()"
   ]
  }
 ],
 "metadata": {
  "kernelspec": {
   "display_name": "Python 3",
   "language": "python",
   "name": "python3"
  },
  "language_info": {
   "codemirror_mode": {
    "name": "ipython",
    "version": 3
   },
   "file_extension": ".py",
   "mimetype": "text/x-python",
   "name": "python",
   "nbconvert_exporter": "python",
   "pygments_lexer": "ipython3",
   "version": "3.6.5"
  }
 },
 "nbformat": 4,
 "nbformat_minor": 2
}
